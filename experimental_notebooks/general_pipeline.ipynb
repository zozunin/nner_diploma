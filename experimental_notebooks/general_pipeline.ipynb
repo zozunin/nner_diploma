{
 "cells": [
  {
   "cell_type": "code",
   "execution_count": null,
   "metadata": {},
   "outputs": [],
   "source": [
    "cd /home/nested_ner"
   ]
  },
  {
   "cell_type": "code",
   "execution_count": 2,
   "metadata": {},
   "outputs": [],
   "source": [
    "from model_scripts.data_utils.dataset_process import get_ind_sequence, dataset\n",
    "from model_scripts.data_utils.label_helper import labels2ids, ids2labels\n",
    "from transformers import get_linear_schedule_with_warmup\n",
    "from model_scripts.utils.other_utils import set_seed\n",
    "from model_scripts.task_trainers import GeneralTrainer\n",
    "from model_scripts.span_classifier import NNERModel\n",
    "from torch.utils.data import DataLoader\n",
    "from torch import cuda, optim\n",
    "import pandas as pd\n",
    "import numpy as np\n",
    "import random\n",
    "import torch\n",
    "import re"
   ]
  },
  {
   "cell_type": "code",
   "execution_count": 3,
   "metadata": {},
   "outputs": [],
   "source": [
    "import warnings\n",
    "warnings.filterwarnings(\"ignore\", category=UserWarning)"
   ]
  },
  {
   "cell_type": "code",
   "execution_count": 4,
   "metadata": {},
   "outputs": [],
   "source": [
    "set_seed()"
   ]
  },
  {
   "cell_type": "code",
   "execution_count": 5,
   "metadata": {},
   "outputs": [],
   "source": [
    "device = 'cuda' if cuda.is_available() else 'cpu'"
   ]
  },
  {
   "attachments": {},
   "cell_type": "markdown",
   "metadata": {},
   "source": [
    "##### Загрузка данных для обучения и валидации"
   ]
  },
  {
   "attachments": {},
   "cell_type": "markdown",
   "metadata": {},
   "source": [
    "train"
   ]
  },
  {
   "cell_type": "code",
   "execution_count": 6,
   "metadata": {},
   "outputs": [],
   "source": [
    "# тренировочные тексты\n",
    "ner_ds_path = 'data/all_data/train_texts.csv'\n",
    "\n",
    "train_texts = pd.read_csv(ner_ds_path, sep=';')\n",
    "to_del = [idx for idx, sent in enumerate(train_texts.Contents) if re.match(r'^\\s+$', sent)]\n",
    "train_texts = train_texts.drop(to_del).reset_index()\n",
    "train_texts = train_texts.drop('index', axis=1)\n",
    "# получение границ слов в последовательности\n",
    "train_inds = get_ind_sequence(train_texts)\n",
    "\n",
    "# тренировочные лейблы\n",
    "ner_ds_path = 'data/all_data/train_spans.csv'\n",
    "train_spans = pd.read_csv(ner_ds_path, sep=';')"
   ]
  },
  {
   "cell_type": "code",
   "execution_count": 7,
   "metadata": {},
   "outputs": [],
   "source": [
    "train_texts_ds = dataset(train_texts, max_len=284)"
   ]
  },
  {
   "attachments": {},
   "cell_type": "markdown",
   "metadata": {},
   "source": [
    "val"
   ]
  },
  {
   "cell_type": "code",
   "execution_count": 8,
   "metadata": {},
   "outputs": [],
   "source": [
    "ner_ds_path = 'data/all_data/dev_texts.csv'\n",
    "\n",
    "val_texts = pd.read_csv(ner_ds_path, sep=';')\n",
    "to_del = [idx for idx, sent in enumerate(val_texts.Contents) if re.match(r'^\\s+$', sent)]\n",
    "val_texts = val_texts.drop(to_del).reset_index()\n",
    "val_texts = val_texts.drop('index', axis=1)\n",
    "val_inds = get_ind_sequence(val_texts)\n",
    "\n",
    "ner_ds_path = 'data/all_data/dev_spans.csv'\n",
    "val_spans = pd.read_csv(ner_ds_path, sep=';')"
   ]
  },
  {
   "cell_type": "code",
   "execution_count": 9,
   "metadata": {},
   "outputs": [],
   "source": [
    "val_texts_ds = dataset(val_texts, max_len=284)"
   ]
  },
  {
   "attachments": {},
   "cell_type": "markdown",
   "metadata": {},
   "source": [
    "test"
   ]
  },
  {
   "cell_type": "code",
   "execution_count": 6,
   "metadata": {},
   "outputs": [],
   "source": [
    "ner_ds_path = 'data/all_data/test_texts.csv'\n",
    "\n",
    "test_texts = pd.read_csv(ner_ds_path, sep=';')\n",
    "to_del = [idx for idx, sent in enumerate(test_texts.Contents) if re.match(r'^\\s+$', sent)]\n",
    "test_texts = test_texts.drop(to_del).reset_index()\n",
    "test_texts = test_texts.drop('index', axis=1)\n",
    "test_inds = get_ind_sequence(test_texts)\n",
    "\n",
    "ner_ds_path = 'data/all_data/test_spans.csv'\n",
    "test_spans = pd.read_csv(ner_ds_path, sep=';')"
   ]
  },
  {
   "cell_type": "code",
   "execution_count": 7,
   "metadata": {},
   "outputs": [],
   "source": [
    "test_texts_ds = dataset(test_texts, max_len=284)"
   ]
  },
  {
   "attachments": {},
   "cell_type": "markdown",
   "metadata": {},
   "source": [
    "##### Обучение"
   ]
  },
  {
   "cell_type": "code",
   "execution_count": null,
   "metadata": {},
   "outputs": [],
   "source": [
    "TRAIN_BATCH_SIZE = 1\n",
    "VALID_BATCH_SIZE = 1\n",
    "\n",
    "train_params = {'batch_size': TRAIN_BATCH_SIZE,\n",
    "                'shuffle': True,\n",
    "                'num_workers': 0\n",
    "                }\n",
    "\n",
    "val_params = {'batch_size': VALID_BATCH_SIZE,\n",
    "                'shuffle': False,\n",
    "                'num_workers': 0\n",
    "                }\n",
    "\n",
    "test_params = {'batch_size': 1,\n",
    "                'shuffle': False,\n",
    "                'num_workers': 0\n",
    "                }\n",
    "\n",
    "\n",
    "training_loader = DataLoader(train_texts_ds, **train_params)\n",
    "validation_loader = DataLoader(val_texts_ds, **val_params)\n",
    "testing_loader = DataLoader(test_texts_ds, **test_params)"
   ]
  },
  {
   "cell_type": "code",
   "execution_count": 13,
   "metadata": {},
   "outputs": [],
   "source": [
    "EPOCHS = 50\n",
    "LEARNING_RATE = 1e-05"
   ]
  },
  {
   "attachments": {},
   "cell_type": "markdown",
   "metadata": {},
   "source": [
    "NNERModel - модель для основной задачи классификации вложенных сущностей\n",
    "\n",
    "\n",
    "Важные параметры:\n",
    "\n",
    "* extractor_type - тип используемого преобразования для получения представлений отрезков\n",
    "\n",
    "    * 'weightedpooling' - простой взвещенный пулинг BERT-представлений слов\n",
    "    * 'lstmattention' - модуль многоголового внимания со слоем LSTM для снижения размерности\n",
    "    * 'linearattention' - модуль многоголового внимания со снижением размерности вектора с помощью линейного слоя (используется для всех экстракторов)\n",
    "    * 'biaffine' - использование биаффинного метода кодирования слов в последовательности, кроме семантических представлений от BERT.\n",
    "    * 'selfbiaffine' - использование биаффинного метода, а также механизма внимания. После конкатенации используется линейный слой для уменьшения размерности.\n",
    "\n",
    "* num_heads - используется для экстракторов, включающих механизм внимания\n",
    "* mode ('classification') - основная задача классификации\n",
    "* extractor_use_gcn (Bool) - использование модуля для получения синтаксической информации с помощью парсера от natasha и графового модуля aggcn"
   ]
  },
  {
   "cell_type": "code",
   "execution_count": 14,
   "metadata": {},
   "outputs": [
    {
     "name": "stderr",
     "output_type": "stream",
     "text": [
      "Some weights of the model checkpoint at DeepPavlov/rubert-base-cased were not used when initializing BertModel: ['cls.seq_relationship.weight', 'cls.predictions.transform.dense.bias', 'cls.predictions.transform.LayerNorm.bias', 'cls.predictions.transform.dense.weight', 'cls.predictions.decoder.bias', 'cls.predictions.decoder.weight', 'cls.predictions.bias', 'cls.seq_relationship.bias', 'cls.predictions.transform.LayerNorm.weight']\n",
      "- This IS expected if you are initializing BertModel from the checkpoint of a model trained on another task or with another architecture (e.g. initializing a BertForSequenceClassification model from a BertForPreTraining model).\n",
      "- This IS NOT expected if you are initializing BertModel from the checkpoint of a model that you expect to be exactly identical (initializing a BertForSequenceClassification model from a BertForSequenceClassification model).\n"
     ]
    }
   ],
   "source": [
    "model = NNERModel(num_labels=len(ids2labels),\n",
    "                  device=device,\n",
    "                  max_seq_len=284,\n",
    "                  max_span_len=20,\n",
    "                  num_heads=None,\n",
    "                  extractor_type='biaffine',\n",
    "                  mode='classification',\n",
    "                  extractor_use_gcn=True)\n",
    "_ = model.to(device)"
   ]
  },
  {
   "cell_type": "code",
   "execution_count": 15,
   "metadata": {},
   "outputs": [],
   "source": [
    "# проигнорировать при валидации\n",
    "optimizer = optim.Adam(model.parameters(),\n",
    "                        lr=LEARNING_RATE)\n",
    "\n",
    "total_steps = len(training_loader) * EPOCHS\n",
    "warmup_steps = int(total_steps * 0.1)\n",
    "scheduler = get_linear_schedule_with_warmup(optimizer, \n",
    "                                            num_warmup_steps = warmup_steps,\n",
    "                                            num_training_steps = total_steps)"
   ]
  },
  {
   "cell_type": "code",
   "execution_count": 16,
   "metadata": {},
   "outputs": [],
   "source": [
    "# название для сохрания или загрузки модели\n",
    "safe_prefix = 'biaffine_gcn'"
   ]
  },
  {
   "cell_type": "code",
   "execution_count": 17,
   "metadata": {},
   "outputs": [],
   "source": [
    "# True при обучении модели с самого начала\n",
    "# False - загрузка для дообучения\n",
    "from_start = True"
   ]
  },
  {
   "attachments": {},
   "cell_type": "markdown",
   "metadata": {},
   "source": [
    "Требуется уточнить путь до места сохранения\n",
    "\n",
    "Здесь загружается и сохраняется модель и оптимизатор с планировщиков на случай вылета обучения"
   ]
  },
  {
   "cell_type": "code",
   "execution_count": 18,
   "metadata": {},
   "outputs": [],
   "source": [
    "if from_start == False:\n",
    "    checkpoint = torch.load(f'data/all_data/general_checkpoints/{safe_prefix}_checkpoint.pth.tar')        \n",
    "    model.load_state_dict(checkpoint['model_state_dict'])\n",
    "    optimizer.load_state_dict(checkpoint['optimizer_state_dict'])\n",
    "    scheduler.load_state_dict(checkpoint['scheduler'])\n",
    "    resume_epoch = checkpoint['epoch']\n",
    "    last_best = checkpoint['f_score']\n",
    "else:\n",
    "    last_best = 0\n",
    "    resume_epoch = 0"
   ]
  },
  {
   "cell_type": "code",
   "execution_count": 19,
   "metadata": {},
   "outputs": [],
   "source": [
    "nner_trainer = GeneralTrainer(model=model,\n",
    "                              device = device,\n",
    "                              optimizer=optimizer,\n",
    "                              scheduler=scheduler,\n",
    "                              ids2labels=ids2labels,\n",
    "                              labels2ids=labels2ids,\n",
    "                              val_mode='comb',\n",
    "                              logger_path=None # можно задать путь до файла, тогда логирование в файл\n",
    "                              )"
   ]
  },
  {
   "attachments": {},
   "cell_type": "markdown",
   "metadata": {},
   "source": [
    "Весь процесс обучения"
   ]
  },
  {
   "cell_type": "code",
   "execution_count": null,
   "metadata": {},
   "outputs": [],
   "source": [
    "for epoch in range(EPOCHS):\n",
    "    if resume_epoch+epoch+1 > EPOCHS:\n",
    "        break\n",
    "    nner_trainer.logger.info(f'EPOCH {resume_epoch+epoch+1}/{EPOCHS}')\n",
    "    _ = nner_trainer(training_loader, train_inds, train_spans, mode='train')\n",
    "\n",
    "    f_score = nner_trainer(validation_loader, val_inds, val_spans, mode='test')\n",
    "    \n",
    "    # на случай отслеживания оценок на валидации и тесте\n",
    "    #_ = nner_trainer(testing_loader, test_spans, test_inds, mode='test')\n",
    "\n",
    "    nner_trainer.logger.info('\\n')\n",
    "    \n",
    "    if f_score > last_best:\n",
    "        last_best = f_score\n",
    "        check_path = f'data/all_data/general_checkpoints/{safe_prefix}_checkpoint.pth.tar'\n",
    "        torch.save({'epoch': epoch+1+resume_epoch,\n",
    "                    'model_state_dict': model.state_dict(),\n",
    "                    'optimizer_state_dict': optimizer.state_dict(),\n",
    "                    'scheduler': scheduler.state_dict(),\n",
    "                    'f_score' : last_best}, check_path)"
   ]
  },
  {
   "attachments": {},
   "cell_type": "markdown",
   "metadata": {},
   "source": [
    "##### Валидация на тесте с подгружаемой моделью"
   ]
  },
  {
   "cell_type": "code",
   "execution_count": 8,
   "metadata": {},
   "outputs": [],
   "source": [
    "test_params = {'batch_size': 1,\n",
    "                'shuffle': False,\n",
    "                'num_workers': 0\n",
    "                }\n",
    "testing_loader = DataLoader(test_texts_ds, **test_params)"
   ]
  },
  {
   "attachments": {},
   "cell_type": "markdown",
   "metadata": {},
   "source": [
    "Про выбор гиперпараметров загрузки модели см. ранее"
   ]
  },
  {
   "cell_type": "code",
   "execution_count": 9,
   "metadata": {},
   "outputs": [
    {
     "name": "stderr",
     "output_type": "stream",
     "text": [
      "Some weights of the model checkpoint at DeepPavlov/rubert-base-cased were not used when initializing BertModel: ['cls.predictions.transform.LayerNorm.weight', 'cls.seq_relationship.bias', 'cls.seq_relationship.weight', 'cls.predictions.bias', 'cls.predictions.transform.dense.weight', 'cls.predictions.decoder.bias', 'cls.predictions.transform.LayerNorm.bias', 'cls.predictions.decoder.weight', 'cls.predictions.transform.dense.bias']\n",
      "- This IS expected if you are initializing BertModel from the checkpoint of a model trained on another task or with another architecture (e.g. initializing a BertForSequenceClassification model from a BertForPreTraining model).\n",
      "- This IS NOT expected if you are initializing BertModel from the checkpoint of a model that you expect to be exactly identical (initializing a BertForSequenceClassification model from a BertForSequenceClassification model).\n"
     ]
    }
   ],
   "source": [
    "model = NNERModel(num_labels=len(ids2labels),\n",
    "                  device=device,\n",
    "                  max_seq_len=284,\n",
    "                  max_span_len=20,\n",
    "                  num_heads=None,\n",
    "                  extractor_type='biaffine',\n",
    "                  mode='classification',\n",
    "                  extractor_use_gcn=True)\n",
    "_ = model.to(device)"
   ]
  },
  {
   "cell_type": "code",
   "execution_count": 10,
   "metadata": {},
   "outputs": [
    {
     "data": {
      "text/plain": [
       "<All keys matched successfully>"
      ]
     },
     "execution_count": 10,
     "metadata": {},
     "output_type": "execute_result"
    }
   ],
   "source": [
    "check_path = 'data/all_data/general_checkpoints/biaffine_gcn_checkpoint.pth.tar'\n",
    "checkpoint = torch.load(check_path)\n",
    "\n",
    "model.load_state_dict(checkpoint['model_state_dict'])"
   ]
  },
  {
   "cell_type": "code",
   "execution_count": 11,
   "metadata": {},
   "outputs": [],
   "source": [
    "nner_trainer = GeneralTrainer(model=model,\n",
    "                              device=device,\n",
    "                              ids2labels=ids2labels,\n",
    "                              labels2ids=labels2ids)"
   ]
  },
  {
   "cell_type": "code",
   "execution_count": 12,
   "metadata": {},
   "outputs": [
    {
     "name": "stderr",
     "output_type": "stream",
     "text": [
      "935it [00:59, 15.58it/s]\n",
      "RESULTS FOR MODE VAL\n",
      "NATIONALITY F1: 76.54321%\n",
      "NATIONALITY Recall: 93.93939%\n",
      "NATIONALITY Precision: 64.58333%\n",
      "CITY F1: 89.91597%\n",
      "CITY Recall: 89.16667%\n",
      "CITY Precision: 90.67797%\n",
      "TIME F1: 36.94268%\n",
      "TIME Recall: 60.41667%\n",
      "TIME Precision: 26.60550%\n",
      "DATE F1: 91.42857%\n",
      "DATE Recall: 91.60305%\n",
      "DATE Precision: 91.25475%\n",
      "ORGANIZATION F1: 82.94737%\n",
      "ORGANIZATION Recall: 84.54936%\n",
      "ORGANIZATION Precision: 81.40496%\n",
      "COUNTRY F1: 95.07830%\n",
      "COUNTRY Recall: 93.40659%\n",
      "COUNTRY Precision: 96.81093%\n",
      "EVENT F1: 65.78947%\n",
      "EVENT Recall: 64.80218%\n",
      "EVENT Precision: 66.80731%\n",
      "AGE F1: 87.82288%\n",
      "AGE Recall: 86.23188%\n",
      "AGE Precision: 89.47368%\n",
      "NUMBER F1: 85.05747%\n",
      "NUMBER Recall: 83.33333%\n",
      "NUMBER Precision: 86.85446%\n",
      "PRODUCT F1: 63.86555%\n",
      "PRODUCT Recall: 79.16667%\n",
      "PRODUCT Precision: 53.52113%\n",
      "PROFESSION F1: 83.00804%\n",
      "PROFESSION Recall: 84.26573%\n",
      "PROFESSION Precision: 81.78733%\n",
      "FACILITY F1: 61.11111%\n",
      "FACILITY Recall: 64.70588%\n",
      "FACILITY Precision: 57.89474%\n",
      "PERSON F1: 95.61177%\n",
      "PERSON Recall: 96.45833%\n",
      "PERSON Precision: 94.77994%\n",
      "STATE_OR_PROVINCE F1: 87.89238%\n",
      "STATE_OR_PROVINCE Recall: 87.50000%\n",
      "STATE_OR_PROVINCE Precision: 88.28829%\n",
      "IDEOLOGY F1: 72.50000%\n",
      "IDEOLOGY Recall: 70.73171%\n",
      "IDEOLOGY Precision: 74.35897%\n",
      "LANGUAGE F1: 40.00000%\n",
      "LANGUAGE Recall: 50.00000%\n",
      "LANGUAGE Precision: 33.33333%\n",
      "PERCENT F1: 61.53846%\n",
      "PERCENT Recall: 57.14286%\n",
      "PERCENT Precision: 66.66667%\n",
      "LOCATION F1: 69.09091%\n",
      "LOCATION Recall: 61.29032%\n",
      "LOCATION Precision: 79.16667%\n",
      "ORDINAL F1: 77.98165%\n",
      "ORDINAL Recall: 77.98165%\n",
      "ORDINAL Precision: 77.98165%\n",
      "DISTRICT F1: 66.66667%\n",
      "DISTRICT Recall: 72.00000%\n",
      "DISTRICT Precision: 62.06897%\n",
      "MONEY F1: 78.16092%\n",
      "MONEY Recall: 77.27273%\n",
      "MONEY Precision: 79.06977%\n",
      "CRIME F1: 60.21505%\n",
      "CRIME Recall: 80.00000%\n",
      "CRIME Precision: 48.27586%\n",
      "LAW F1: 65.15152%\n",
      "LAW Recall: 69.35484%\n",
      "LAW Precision: 61.42857%\n",
      "DISEASE F1: 55.81395%\n",
      "DISEASE Recall: 42.10526%\n",
      "DISEASE Precision: 82.75862%\n",
      "FAMILY F1: 21.05263%\n",
      "FAMILY Recall: 14.28571%\n",
      "FAMILY Precision: 40.00000%\n",
      "RELIGION F1: 80.00000%\n",
      "RELIGION Recall: 78.26087%\n",
      "RELIGION Precision: 81.81818%\n",
      "AWARD F1: 73.88060%\n",
      "AWARD Recall: 81.81818%\n",
      "AWARD Precision: 67.34694%\n",
      "PENALTY F1: 68.96552%\n",
      "PENALTY Recall: 55.55556%\n",
      "PENALTY Precision: 90.90909%\n",
      "WORK_OF_ART F1: 63.01370%\n",
      "WORK_OF_ART Recall: 49.46237%\n",
      "WORK_OF_ART Precision: 86.79245%\n",
      "Macro F1: 70.93263%\n"
     ]
    }
   ],
   "source": [
    "f_score = nner_trainer(testing_loader, test_inds, test_spans, mode='val')"
   ]
  }
 ],
 "metadata": {
  "kernelspec": {
   "display_name": "base",
   "language": "python",
   "name": "python3"
  },
  "language_info": {
   "codemirror_mode": {
    "name": "ipython",
    "version": 3
   },
   "file_extension": ".py",
   "mimetype": "text/x-python",
   "name": "python",
   "nbconvert_exporter": "python",
   "pygments_lexer": "ipython3",
   "version": "3.10.5"
  },
  "orig_nbformat": 4
 },
 "nbformat": 4,
 "nbformat_minor": 2
}
