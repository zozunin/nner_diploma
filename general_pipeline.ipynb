{
 "cells": [
  {
   "attachments": {},
   "cell_type": "markdown",
   "metadata": {},
   "source": [
    "* Основной чекпойнт для этой задачи можно скачать по ссылке: https://drive.google.com/drive/folders/1ywaDZ4xX_ahcf0jWMJX69TDMdMhMqtmY?usp=sharing\n",
    "    * Предполагается, что после загрузки лежат в папке all_data/general_checkpoints\n",
    "    * \n",
    "\n",
    "* Данные для обучения по ссылке (кладутся в основную папку all_data): https://drive.google.com/drive/folders/1oHRzegJm9tId0jliPQPq5G7bYwtwVEK7?usp=sharing\n",
    "\n"
   ]
  },
  {
   "cell_type": "code",
   "execution_count": 1,
   "metadata": {},
   "outputs": [],
   "source": [
    "from scripts.data_utils.dataset_process import get_ind_sequence, dataset\n",
    "from scripts.data_utils.label_helper import labels2ids, ids2labels\n",
    "from transformers import get_linear_schedule_with_warmup\n",
    "from scripts.task_trainers import GeneralTrainer\n",
    "from scripts.span_classifier import NNERModel\n",
    "from torch.utils.data import DataLoader\n",
    "from torch import cuda, optim\n",
    "import pandas as pd\n",
    "import numpy as np\n",
    "import random\n",
    "import torch\n",
    "import re\n"
   ]
  },
  {
   "cell_type": "code",
   "execution_count": 2,
   "metadata": {},
   "outputs": [],
   "source": [
    "import warnings\n",
    "warnings.filterwarnings(\"ignore\", category=UserWarning)"
   ]
  },
  {
   "cell_type": "code",
   "execution_count": 3,
   "metadata": {},
   "outputs": [],
   "source": [
    "def set_seed(SEED=42):\n",
    "    \n",
    "    random.seed(SEED)\n",
    "    np.random.seed(SEED)\n",
    "    torch.manual_seed(SEED)\n",
    "    torch.cuda.manual_seed(SEED)\n",
    "    \n",
    "set_seed()"
   ]
  },
  {
   "cell_type": "code",
   "execution_count": 4,
   "metadata": {},
   "outputs": [
    {
     "name": "stdout",
     "output_type": "stream",
     "text": [
      "cuda\n"
     ]
    }
   ],
   "source": [
    "device = 'cuda' if cuda.is_available() else 'cpu'\n",
    "print(device)"
   ]
  },
  {
   "attachments": {},
   "cell_type": "markdown",
   "metadata": {},
   "source": [
    "##### Загрузка данных для обучения и валидации\n",
    "\n",
    "Везде требуется уточнить пути до файлов"
   ]
  },
  {
   "attachments": {},
   "cell_type": "markdown",
   "metadata": {},
   "source": [
    "train"
   ]
  },
  {
   "cell_type": "code",
   "execution_count": 5,
   "metadata": {},
   "outputs": [],
   "source": [
    "# тренировочные тексты\n",
    "ner_ds_path = 'all_data/train_texts.csv'\n",
    "\n",
    "train_texts = pd.read_csv(ner_ds_path, sep=';')\n",
    "to_del = [idx for idx, sent in enumerate(train_texts.Contents) if re.match(r'^\\s+$', sent)]\n",
    "train_texts = train_texts.drop(to_del).reset_index()\n",
    "train_texts = train_texts.drop('index', axis=1)\n",
    "# получение границ слов в последовательности\n",
    "train_inds = get_ind_sequence(train_texts)\n",
    "\n",
    "# тренировочные лейблы\n",
    "ner_ds_path = 'all_data/train_spans.csv'\n",
    "train_spans = pd.read_csv(ner_ds_path, sep=';')"
   ]
  },
  {
   "cell_type": "code",
   "execution_count": 6,
   "metadata": {},
   "outputs": [],
   "source": [
    "train_texts_ds = dataset(train_texts, max_len=284)"
   ]
  },
  {
   "attachments": {},
   "cell_type": "markdown",
   "metadata": {},
   "source": [
    "val"
   ]
  },
  {
   "cell_type": "code",
   "execution_count": 7,
   "metadata": {},
   "outputs": [],
   "source": [
    "ner_ds_path = 'all_data/dev_texts.csv'\n",
    "\n",
    "val_texts = pd.read_csv(ner_ds_path, sep=';')\n",
    "to_del = [idx for idx, sent in enumerate(val_texts.Contents) if re.match(r'^\\s+$', sent)]\n",
    "val_texts = val_texts.drop(to_del).reset_index()\n",
    "val_texts = val_texts.drop('index', axis=1)\n",
    "val_inds = get_ind_sequence(val_texts)\n",
    "\n",
    "ner_ds_path = 'all_data/dev_spans.csv'\n",
    "val_spans = pd.read_csv(ner_ds_path, sep=';')"
   ]
  },
  {
   "cell_type": "code",
   "execution_count": 8,
   "metadata": {},
   "outputs": [],
   "source": [
    "val_texts_ds = dataset(val_texts, max_len=284)"
   ]
  },
  {
   "attachments": {},
   "cell_type": "markdown",
   "metadata": {},
   "source": [
    "test"
   ]
  },
  {
   "cell_type": "code",
   "execution_count": 9,
   "metadata": {},
   "outputs": [],
   "source": [
    "ner_ds_path = 'all_data/test_texts.csv'\n",
    "\n",
    "test_texts = pd.read_csv(ner_ds_path, sep=';')\n",
    "to_del = [idx for idx, sent in enumerate(test_texts.Contents) if re.match(r'^\\s+$', sent)]\n",
    "test_texts = test_texts.drop(to_del).reset_index()\n",
    "test_texts = test_texts.drop('index', axis=1)\n",
    "test_inds = get_ind_sequence(test_texts)\n",
    "\n",
    "ner_ds_path = 'all_data/test_spans.csv'\n",
    "test_spans = pd.read_csv(ner_ds_path, sep=';')"
   ]
  },
  {
   "cell_type": "code",
   "execution_count": 10,
   "metadata": {},
   "outputs": [],
   "source": [
    "test_texts_ds = dataset(test_texts, max_len=284)"
   ]
  },
  {
   "attachments": {},
   "cell_type": "markdown",
   "metadata": {},
   "source": [
    "##### Обучение"
   ]
  },
  {
   "cell_type": "code",
   "execution_count": 11,
   "metadata": {},
   "outputs": [],
   "source": [
    "TRAIN_BATCH_SIZE = 1\n",
    "VALID_BATCH_SIZE = 1\n",
    "\n",
    "train_params = {'batch_size': TRAIN_BATCH_SIZE,\n",
    "                'shuffle': True,\n",
    "                'num_workers': 0\n",
    "                }\n",
    "\n",
    "val_params = {'batch_size': VALID_BATCH_SIZE,\n",
    "                'shuffle': False,\n",
    "                'num_workers': 0\n",
    "                }\n",
    "\n",
    "test_params = {'batch_size': 1,\n",
    "                'shuffle': False,\n",
    "                'num_workers': 0\n",
    "                }\n",
    "\n",
    "\n",
    "training_loader = DataLoader(train_texts_ds, **train_params)\n",
    "validation_loader = DataLoader(val_texts_ds, **val_params)\n",
    "testing_loader = DataLoader(test_texts_ds, **test_params)"
   ]
  },
  {
   "cell_type": "code",
   "execution_count": 12,
   "metadata": {},
   "outputs": [],
   "source": [
    "EPOCHS = 100\n",
    "LEARNING_RATE = 1e-05"
   ]
  },
  {
   "attachments": {},
   "cell_type": "markdown",
   "metadata": {},
   "source": [
    "NNERModel - модель для основной задачи классификации вложенных сущностей\n",
    "\n",
    "\n",
    "Важные параметры:\n",
    "\n",
    "* extractor_type - тип используемого преобразования для получения представлений отрезков\n",
    "\n",
    "    * 'weightedpooling' - простой взвещенный пулинг BERT-представлений слов\n",
    "    * 'lstmattention' - модуль многоголового внимания со слоем LSTM для снижения размерности\n",
    "    * 'linearattention' - модуль многоголового внимания со снижением размерности вектора с помощью линейного слоя (используется для всех экстракторов)\n",
    "    * 'biaffine' - использование биаффинного метода кодирования слов в последовательности, кроме семантических представлений от BERT.\n",
    "    * 'selfbiaffine' - использование биаффинного метода, а также механизма внимания. После конкатенации используется линейный слой для уменьшения размерности.\n",
    "\n",
    "* num_heads - используется для экстракторов, включающих механизм внимания\n",
    "* mode ('classification') - основная задача классификации\n",
    "* extractor_use_gcn (Bool) - использование модуля для получения синтаксической информации с помощью парсера от natasha и графового модуля aggcn"
   ]
  },
  {
   "cell_type": "code",
   "execution_count": 14,
   "metadata": {},
   "outputs": [
    {
     "name": "stderr",
     "output_type": "stream",
     "text": [
      "Some weights of the model checkpoint at DeepPavlov/rubert-base-cased were not used when initializing BertModel: ['cls.seq_relationship.weight', 'cls.predictions.transform.LayerNorm.bias', 'cls.predictions.decoder.weight', 'cls.predictions.transform.LayerNorm.weight', 'cls.predictions.transform.dense.weight', 'cls.predictions.decoder.bias', 'cls.seq_relationship.bias', 'cls.predictions.bias', 'cls.predictions.transform.dense.bias']\n",
      "- This IS expected if you are initializing BertModel from the checkpoint of a model trained on another task or with another architecture (e.g. initializing a BertForSequenceClassification model from a BertForPreTraining model).\n",
      "- This IS NOT expected if you are initializing BertModel from the checkpoint of a model that you expect to be exactly identical (initializing a BertForSequenceClassification model from a BertForSequenceClassification model).\n"
     ]
    }
   ],
   "source": [
    "model = NNERModel(num_labels=len(ids2labels),\n",
    "                  device=device,\n",
    "                  max_seq_len=284,\n",
    "                  max_span_len=20,\n",
    "                  num_heads=None,\n",
    "                  extractor_type='biaffine',\n",
    "                  mode='classification',\n",
    "                  extractor_use_gcn=False)\n",
    "_ = model.to(device)"
   ]
  },
  {
   "cell_type": "code",
   "execution_count": 15,
   "metadata": {},
   "outputs": [],
   "source": [
    "# проигнорировать при валидации\n",
    "optimizer = optim.Adam(model.parameters(),\n",
    "                        lr=LEARNING_RATE)\n",
    "\n",
    "total_steps = len(training_loader) * EPOCHS\n",
    "warmup_steps = int(total_steps * 0.1)\n",
    "scheduler = get_linear_schedule_with_warmup(optimizer, \n",
    "                                            num_warmup_steps = warmup_steps,\n",
    "                                            num_training_steps = total_steps)"
   ]
  },
  {
   "cell_type": "code",
   "execution_count": 16,
   "metadata": {},
   "outputs": [],
   "source": [
    "# название для сохрания или загрузки модели\n",
    "safe_prefix = 'testing'"
   ]
  },
  {
   "cell_type": "code",
   "execution_count": 17,
   "metadata": {},
   "outputs": [],
   "source": [
    "# True при обучении модели с самого начала\n",
    "# False - загрузка для дообучения\n",
    "from_start = True"
   ]
  },
  {
   "attachments": {},
   "cell_type": "markdown",
   "metadata": {},
   "source": [
    "Требуется уточнить путь до места сохранения\n",
    "\n",
    "По умолчанию сохраняется в папку new_data\n",
    "\n",
    "Здесь загружается и сохраняется модель и оптимизатор с планировщиков на случай вылета обучения"
   ]
  },
  {
   "cell_type": "code",
   "execution_count": 18,
   "metadata": {},
   "outputs": [],
   "source": [
    "if from_start == False:\n",
    "    checkpoint = torch.load(f'new_data/{safe_prefix}_checkpoint.pth.tar')        \n",
    "    model.load_state_dict(checkpoint['model_state_dict'])\n",
    "    optimizer.load_state_dict(checkpoint['optimizer_state_dict'])\n",
    "    scheduler.load_state_dict(checkpoint['scheduler'])\n",
    "    resume_epoch = checkpoint['epoch']\n",
    "    last_best = checkpoint['f_score']\n",
    "else:\n",
    "    last_best = 0\n",
    "    resume_epoch = 0"
   ]
  },
  {
   "cell_type": "code",
   "execution_count": 19,
   "metadata": {},
   "outputs": [],
   "source": [
    "nner_trainer = GeneralTrainer(model=model,\n",
    "                              device = device,\n",
    "                              optimizer=optimizer,\n",
    "                              scheduler=scheduler,\n",
    "                              ids2labels=ids2labels,\n",
    "                              labels2ids=labels2ids)"
   ]
  },
  {
   "attachments": {},
   "cell_type": "markdown",
   "metadata": {},
   "source": [
    "Весь процесс обучения\n",
    "\n",
    "По умолчанию лучшая модель сохраняется в папку new_data/"
   ]
  },
  {
   "cell_type": "code",
   "execution_count": null,
   "metadata": {},
   "outputs": [],
   "source": [
    "for epoch in range(EPOCHS):\n",
    "    if resume_epoch+epoch+1 > EPOCHS:\n",
    "        break\n",
    "    print(f'EPOCH {resume_epoch+epoch+1}/{EPOCHS}')\n",
    "    _ = nner_trainer(training_loader, train_spans, train_inds, mode='train')\n",
    "\n",
    "    f_score = nner_trainer(validation_loader, val_spans, val_inds, mode='dev')\n",
    "    \n",
    "    # на случай отслеживания оценок на валидации и тесте\n",
    "    #_ = nner_trainer(testing_loader, test_spans, test_inds, mode='test')\n",
    "\n",
    "    \n",
    "    if f_score > last_best:\n",
    "        last_best = f_score\n",
    "        check_path = f'new_data/{safe_prefix}_checkpoint.pth.tar'\n",
    "        torch.save({'epoch': epoch+1+resume_epoch,\n",
    "                        'model_state_dict': model.state_dict(),\n",
    "                        'optimizer_state_dict': optimizer.state_dict(),\n",
    "                        'scheduler': scheduler.state_dict(),\n",
    "                        'f_score' : last_best}, check_path)"
   ]
  },
  {
   "attachments": {},
   "cell_type": "markdown",
   "metadata": {},
   "source": [
    "##### Валидация на тесте с подгружаемой моделью"
   ]
  },
  {
   "cell_type": "code",
   "execution_count": 20,
   "metadata": {},
   "outputs": [],
   "source": [
    "test_params = {'batch_size': 1,\n",
    "                'shuffle': False,\n",
    "                'num_workers': 0\n",
    "                }\n",
    "testing_loader = DataLoader(test_texts_ds, **test_params)"
   ]
  },
  {
   "attachments": {},
   "cell_type": "markdown",
   "metadata": {},
   "source": [
    "Про выбор гиперпараметров загрузки модели см. ранее"
   ]
  },
  {
   "cell_type": "code",
   "execution_count": 21,
   "metadata": {},
   "outputs": [
    {
     "name": "stderr",
     "output_type": "stream",
     "text": [
      "Some weights of the model checkpoint at DeepPavlov/rubert-base-cased were not used when initializing BertModel: ['cls.predictions.decoder.weight', 'cls.seq_relationship.bias', 'cls.predictions.decoder.bias', 'cls.predictions.transform.dense.bias', 'cls.seq_relationship.weight', 'cls.predictions.bias', 'cls.predictions.transform.LayerNorm.weight', 'cls.predictions.transform.LayerNorm.bias', 'cls.predictions.transform.dense.weight']\n",
      "- This IS expected if you are initializing BertModel from the checkpoint of a model trained on another task or with another architecture (e.g. initializing a BertForSequenceClassification model from a BertForPreTraining model).\n",
      "- This IS NOT expected if you are initializing BertModel from the checkpoint of a model that you expect to be exactly identical (initializing a BertForSequenceClassification model from a BertForSequenceClassification model).\n"
     ]
    }
   ],
   "source": [
    "model = NNERModel(num_labels=len(ids2labels),\n",
    "                  device=device,\n",
    "                  max_seq_len=284,\n",
    "                  max_span_len=20,\n",
    "                  num_heads=None,\n",
    "                  extractor_type='biaffine',\n",
    "                  mode='classification',\n",
    "                  extractor_use_gcn=False)\n",
    "_ = model.to(device)"
   ]
  },
  {
   "cell_type": "code",
   "execution_count": 22,
   "metadata": {},
   "outputs": [
    {
     "data": {
      "text/plain": [
       "<All keys matched successfully>"
      ]
     },
     "execution_count": 22,
     "metadata": {},
     "output_type": "execute_result"
    }
   ],
   "source": [
    "# путь до сохраненной модели!\n",
    "\n",
    "# для лучшей модели сохранялось на диск только ее состояние, без оптимизатора и тп\n",
    "check_path = 'all_data/general_checkpoints/biaffine_checkpoint.pth'\n",
    "checkpoint = torch.load(check_path)\n",
    "model.load_state_dict(checkpoint)\n",
    "# если полное сохранение:\n",
    "# model.load_state_dict(checkpoint['model_state_dict'])"
   ]
  },
  {
   "cell_type": "code",
   "execution_count": 23,
   "metadata": {},
   "outputs": [],
   "source": [
    "nner_trainer = GeneralTrainer(model=model,\n",
    "                              device=device,\n",
    "                              ids2labels=ids2labels,\n",
    "                              labels2ids=labels2ids)"
   ]
  },
  {
   "cell_type": "code",
   "execution_count": 26,
   "metadata": {},
   "outputs": [
    {
     "name": "stderr",
     "output_type": "stream",
     "text": [
      "935it [00:54, 17.06it/s]\n"
     ]
    },
    {
     "name": "stdout",
     "output_type": "stream",
     "text": [
      "RESULTS FOR MODE TEST\n",
      "****************SUB NER TYPES********************\n",
      "****************GENERAL********************\n",
      "NATIONALITY F1: 73.10345%\n",
      "NATIONALITY Recall: 80.30303%\n",
      "NATIONALITY Precision: 67.08861%\n",
      "CITY F1: 88.61789%\n",
      "CITY Recall: 90.83333%\n",
      "CITY Precision: 86.50794%\n",
      "TIME F1: 64.00000%\n",
      "TIME Recall: 66.66667%\n",
      "TIME Precision: 61.53846%\n",
      "DATE F1: 91.23810%\n",
      "DATE Recall: 91.41221%\n",
      "DATE Precision: 91.06464%\n",
      "ORGANIZATION F1: 82.00837%\n",
      "ORGANIZATION Recall: 84.12017%\n",
      "ORGANIZATION Precision: 80.00000%\n",
      "COUNTRY F1: 95.31080%\n",
      "COUNTRY Recall: 96.04396%\n",
      "COUNTRY Precision: 94.58874%\n",
      "EVENT F1: 66.19014%\n",
      "EVENT Recall: 63.16508%\n",
      "EVENT Precision: 69.51952%\n",
      "AGE F1: 87.82288%\n",
      "AGE Recall: 86.23188%\n",
      "AGE Precision: 89.47368%\n",
      "NUMBER F1: 85.32110%\n",
      "NUMBER Recall: 83.78378%\n",
      "NUMBER Precision: 86.91589%\n",
      "PRODUCT F1: 75.24752%\n",
      "PRODUCT Recall: 79.16667%\n",
      "PRODUCT Precision: 71.69811%\n",
      "PROFESSION F1: 83.82954%\n",
      "PROFESSION Recall: 83.68298%\n",
      "PROFESSION Precision: 83.97661%\n",
      "FACILITY F1: 63.23529%\n",
      "FACILITY Recall: 63.23529%\n",
      "FACILITY Precision: 63.23529%\n",
      "PERSON F1: 95.24302%\n",
      "PERSON Recall: 95.93750%\n",
      "PERSON Precision: 94.55852%\n",
      "STATE_OR_PROVINCE F1: 88.88889%\n",
      "STATE_OR_PROVINCE Recall: 89.28571%\n",
      "STATE_OR_PROVINCE Precision: 88.49558%\n",
      "IDEOLOGY F1: 71.05263%\n",
      "IDEOLOGY Recall: 65.85366%\n",
      "IDEOLOGY Precision: 77.14286%\n",
      "LANGUAGE F1: 61.53846%\n",
      "LANGUAGE Recall: 50.00000%\n",
      "LANGUAGE Precision: 80.00000%\n",
      "PERCENT F1: 61.53846%\n",
      "PERCENT Recall: 57.14286%\n",
      "PERCENT Precision: 66.66667%\n",
      "LOCATION F1: 73.07692%\n",
      "LOCATION Recall: 61.29032%\n",
      "LOCATION Precision: 90.47619%\n",
      "ORDINAL F1: 82.52427%\n",
      "ORDINAL Recall: 77.98165%\n",
      "ORDINAL Precision: 87.62887%\n",
      "DISTRICT F1: 56.00000%\n",
      "DISTRICT Recall: 56.00000%\n",
      "DISTRICT Precision: 56.00000%\n",
      "MONEY F1: 75.86207%\n",
      "MONEY Recall: 75.00000%\n",
      "MONEY Precision: 76.74419%\n",
      "CRIME F1: 55.31915%\n",
      "CRIME Recall: 74.28571%\n",
      "CRIME Precision: 44.06780%\n",
      "LAW F1: 68.80000%\n",
      "LAW Recall: 69.35484%\n",
      "LAW Precision: 68.25397%\n",
      "FAMILY F1: 36.36364%\n",
      "FAMILY Recall: 28.57143%\n",
      "FAMILY Precision: 50.00000%\n",
      "RELIGION F1: 85.71429%\n",
      "RELIGION Recall: 78.26087%\n",
      "RELIGION Precision: 94.73684%\n",
      "AWARD F1: 71.54472%\n",
      "AWARD Recall: 72.72727%\n",
      "AWARD Precision: 70.40000%\n",
      "Macro F1: 74.59198%\n",
      "****************SUB NER TYPES********************\n",
      "*******************FEWSHOT***********************\n",
      "DISEASE F1: 45.23810%\n",
      "DISEASE Recall: 33.33333%\n",
      "DISEASE Precision: 70.37037%\n",
      "PENALTY F1: 51.85185%\n",
      "PENALTY Recall: 38.88889%\n",
      "PENALTY Precision: 77.77778%\n",
      "WORK_OF_ART F1: 56.52174%\n",
      "WORK_OF_ART Recall: 41.93548%\n",
      "WORK_OF_ART Precision: 86.66667%\n",
      "Macro F1: 51.20390%\n"
     ]
    }
   ],
   "source": [
    "f_score = nner_trainer(testing_loader, test_spans, test_inds, mode='test')"
   ]
  },
  {
   "cell_type": "code",
   "execution_count": null,
   "metadata": {},
   "outputs": [],
   "source": []
  }
 ],
 "metadata": {
  "kernelspec": {
   "display_name": "base",
   "language": "python",
   "name": "python3"
  },
  "language_info": {
   "codemirror_mode": {
    "name": "ipython",
    "version": 3
   },
   "file_extension": ".py",
   "mimetype": "text/x-python",
   "name": "python",
   "nbconvert_exporter": "python",
   "pygments_lexer": "ipython3",
   "version": "3.10.5"
  },
  "orig_nbformat": 4
 },
 "nbformat": 4,
 "nbformat_minor": 2
}
